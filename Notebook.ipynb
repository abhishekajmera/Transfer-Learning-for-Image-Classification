{
  "cells": [
    {
      "cell_type": "code",
      "source": [],
      "metadata": {
        "id": "XJaR0c-XGtBp"
      },
      "execution_count": null,
      "outputs": []
    },
    {
      "cell_type": "markdown",
      "source": [
        "## Name: Abhishek Ajmera\n",
        "## USC ID: 8586888981\n",
        "## Github: abhishekajmera"
      ],
      "metadata": {
        "id": "YBseYP9rnqGI"
      }
    },
    {
      "cell_type": "code",
      "execution_count": 1,
      "metadata": {
        "colab": {
          "base_uri": "https://localhost:8080/"
        },
        "id": "l3bA1XZlPdvd",
        "outputId": "c5e3733a-9968-40d8-ab40-eec20dd7878d"
      },
      "outputs": [
        {
          "output_type": "stream",
          "name": "stdout",
          "text": [
            "Mounted at /content/drive\n"
          ]
        }
      ],
      "source": [
        "from google.colab import drive\n",
        "drive.mount(\"/content/drive\")\n"
      ]
    },
    {
      "cell_type": "code",
      "execution_count": 4,
      "metadata": {
        "colab": {
          "base_uri": "https://localhost:8080/"
        },
        "id": "lh4vM3Wvg4pk",
        "outputId": "edc8ea84-1328-48f2-db13-a5e3015ba053"
      },
      "outputs": [
        {
          "output_type": "stream",
          "name": "stdout",
          "text": [
            "Looking in indexes: https://pypi.org/simple, https://us-python.pkg.dev/colab-wheels/public/simple/\n",
            "Collecting split-folders\n",
            "  Downloading split_folders-0.5.1-py3-none-any.whl (8.4 kB)\n",
            "Installing collected packages: split-folders\n",
            "Successfully installed split-folders-0.5.1\n"
          ]
        }
      ],
      "source": [
        "!pip install split-folders"
      ]
    },
    {
      "cell_type": "code",
      "execution_count": 16,
      "metadata": {
        "id": "qrKhC376L2eB"
      },
      "outputs": [],
      "source": [
        "import pandas as pd\n",
        "import numpy as np\n",
        "import os\n",
        "import cv2\n",
        "import splitfolders\n",
        "import matplotlib.pyplot as plt\n",
        "import seaborn as sns\n",
        "import pickle\n",
        "import keras\n",
        "from keras.models import Sequential\n",
        "from keras.layers import Dense, Conv2D , MaxPool2D , Flatten , Dropout \n",
        "from keras.preprocessing.image import ImageDataGenerator\n",
        "from keras.optimizers import Adam\n",
        "from tensorflow.keras.applications import EfficientNetB0\n",
        "from keras.applications import VGG16\n",
        "from tensorflow.keras.models import Sequential\n",
        "from tensorflow.keras import layers\n",
        "import tensorflow as tf\n",
        "from sklearn.metrics import classification_report,confusion_matrix,precision_recall_fscore_support\n",
        "import warnings\n",
        "warnings.filterwarnings(\"ignore\")"
      ]
    },
    {
      "cell_type": "code",
      "execution_count": 6,
      "metadata": {
        "colab": {
          "base_uri": "https://localhost:8080/"
        },
        "id": "NTlKZAKuMOMC",
        "outputId": "916f257b-1716-4157-cb3e-e9e557d2f754"
      },
      "outputs": [
        {
          "output_type": "execute_result",
          "data": {
            "text/plain": [
              "Index(['Folder Name ', 'Class'], dtype='object')"
            ]
          },
          "metadata": {},
          "execution_count": 6
        }
      ],
      "source": [
        "data_path='/content/drive/My Drive/Colab Notebooks/MLDS/Data'\n",
        "xls = pd.ExcelFile(os.path.join(data_path,'Classes.xlsx'))\n",
        "classes = pd.read_excel(xls, 'Sheet1')\n",
        "classes.columns"
      ]
    },
    {
      "cell_type": "code",
      "execution_count": 7,
      "metadata": {
        "id": "zjqDvpAmMTgR"
      },
      "outputs": [],
      "source": [
        "input_folder = os.path.join(data_path,'images')\n",
        "output = os.path.join(data_path,'output_images')"
      ]
    },
    {
      "cell_type": "code",
      "execution_count": 8,
      "metadata": {
        "id": "4QQWUWTGhP52",
        "colab": {
          "base_uri": "https://localhost:8080/"
        },
        "outputId": "1d4994b7-df29-4151-cda7-82b8572cc0fb"
      },
      "outputs": [
        {
          "output_type": "stream",
          "name": "stderr",
          "text": [
            "Copying files: 1176 files [10:37,  1.85 files/s]\n"
          ]
        }
      ],
      "source": [
        "splitfolders.ratio(input_folder, output=output, seed=42, ratio=(.7, .15, .15))"
      ]
    },
    {
      "cell_type": "code",
      "execution_count": 9,
      "metadata": {
        "id": "anNmn7o9kdO0"
      },
      "outputs": [],
      "source": [
        "def random_crop(img, random_crop_size):\n",
        "    assert img.shape[2] == 3\n",
        "    height, width = img.shape[0], img.shape[1]\n",
        "    dy, dx = random_crop_size\n",
        "    x = np.random.randint(0, width - dx + 1)\n",
        "    y = np.random.randint(0, height - dy + 1)\n",
        "    return img[y:(y+dy), x:(x+dx), :]\n",
        "\n",
        "\n",
        "def crop_generator(batches, crop_length):\n",
        "    while True:\n",
        "        batch_x, batch_y = next(batches)\n",
        "        batch_crops = np.zeros((batch_x.shape[0], crop_length, crop_length, 3))\n",
        "        for i in range(batch_x.shape[0]):\n",
        "            batch_crops[i] = random_crop(batch_x[i], (crop_length, crop_length))\n",
        "        yield (batch_crops, batch_y)"
      ]
    },
    {
      "cell_type": "code",
      "execution_count": 12,
      "metadata": {
        "colab": {
          "base_uri": "https://localhost:8080/"
        },
        "id": "_5v09P4pjexL",
        "outputId": "e1ebc2ee-0980-4fb8-d3c8-6d3a7c6a03a0"
      },
      "outputs": [
        {
          "output_type": "stream",
          "name": "stdout",
          "text": [
            "Found 820 images belonging to 20 classes.\n",
            "Found 171 images belonging to 20 classes.\n"
          ]
        }
      ],
      "source": [
        "train_data_dir = os.path.join(output,'train')\n",
        "valid_data_dir = os.path.join(output,'val')\n",
        "image_size=224\n",
        "batch_size=5\n",
        "train_datagen = ImageDataGenerator(\n",
        "    # rescale=1./255.,\n",
        "    horizontal_flip = True,\n",
        "    rotation_range = 45,  \n",
        "    zoom_range = 0.2, \n",
        "    width_shift_range=0.3,\n",
        "    shear_range=0.2,   \n",
        " \n",
        "    validation_split=0)\n",
        "\n",
        "valid_datagen = ImageDataGenerator()\n",
        "\n",
        "train_generator = train_datagen.flow_from_directory(\n",
        "    train_data_dir,\n",
        "    target_size=(image_size, image_size),\n",
        "    batch_size=batch_size,\n",
        "    class_mode='categorical')\n",
        "train_crops = crop_generator(train_generator, 224)\n",
        "validation_generator = valid_datagen.flow_from_directory(\n",
        "    valid_data_dir,\n",
        "    target_size=(image_size, image_size),\n",
        "    batch_size=batch_size,\n",
        "    class_mode='categorical')"
      ]
    },
    {
      "cell_type": "code",
      "execution_count": 14,
      "metadata": {
        "id": "WAGm4BWLANsX"
      },
      "outputs": [],
      "source": [
        "x,y=next(train_generator)"
      ]
    },
    {
      "cell_type": "markdown",
      "metadata": {
        "id": "ZGl4tKTjMgdO"
      },
      "source": [
        "### 1(c) Transfer Learning using EfficientNetB0"
      ]
    },
    {
      "cell_type": "code",
      "source": [
        "def build_model(num_classes):\n",
        "    inputs = layers.Input(shape=(image_size, image_size, 3))\n",
        "    \n",
        "    model = EfficientNetB0(include_top=False, input_tensor=inputs, weights=\"imagenet\")\n",
        "    model.trainable = False\n",
        "    x=model(inputs,training=False)\n",
        "    x = layers.GlobalAveragePooling2D(name=\"avg_pool\")(x)   \n",
        "    x = layers.BatchNormalization()(x)\n",
        "    x = layers.Activation('relu')(x)\n",
        "    top_dropout_rate = 0.2\n",
        "    x = layers.Dropout(top_dropout_rate, name=\"top_dropout\")(x)\n",
        "    outputs = layers.Dense(num_classes, activation=\"softmax\", name=\"pred\")(x)\n",
        "    model = tf.keras.Model(inputs, outputs, name=\"EfficientNet\")\n",
        "    opt = Adam(lr=0.001)\n",
        "    model.compile(optimizer = opt , loss = \"categorical_crossentropy\" , metrics = ['accuracy'])\n",
        "    return model"
      ],
      "metadata": {
        "id": "vjAp2OMoNpMU"
      },
      "execution_count": 15,
      "outputs": []
    },
    {
      "cell_type": "code",
      "execution_count": 17,
      "metadata": {
        "colab": {
          "base_uri": "https://localhost:8080/"
        },
        "id": "h2VEQyzKkx7T",
        "outputId": "06f5726a-a2d4-4f12-aa22-15bcc33276f9"
      },
      "outputs": [
        {
          "output_type": "stream",
          "name": "stdout",
          "text": [
            "Downloading data from https://storage.googleapis.com/keras-applications/efficientnetb0_notop.h5\n",
            "16705208/16705208 [==============================] - 2s 0us/step\n",
            "Epoch 1/100\n",
            "164/164 [==============================] - 31s 114ms/step - loss: 2.0877 - accuracy: 0.4268 - val_loss: 1.0098 - val_accuracy: 0.8246 - lr: 0.0010\n",
            "Epoch 2/100\n",
            "164/164 [==============================] - 17s 102ms/step - loss: 0.9148 - accuracy: 0.7244 - val_loss: 0.4251 - val_accuracy: 0.8889 - lr: 0.0010\n",
            "Epoch 3/100\n",
            "164/164 [==============================] - 16s 95ms/step - loss: 0.6508 - accuracy: 0.8037 - val_loss: 0.3007 - val_accuracy: 0.9181 - lr: 0.0010\n",
            "Epoch 4/100\n",
            "164/164 [==============================] - 16s 96ms/step - loss: 0.5578 - accuracy: 0.8220 - val_loss: 0.3056 - val_accuracy: 0.9240 - lr: 0.0010\n",
            "Epoch 5/100\n",
            "164/164 [==============================] - 16s 96ms/step - loss: 0.4748 - accuracy: 0.8415 - val_loss: 0.2736 - val_accuracy: 0.9240 - lr: 0.0010\n",
            "Epoch 6/100\n",
            "164/164 [==============================] - 16s 95ms/step - loss: 0.4721 - accuracy: 0.8402 - val_loss: 0.2363 - val_accuracy: 0.9474 - lr: 0.0010\n",
            "Epoch 7/100\n",
            "164/164 [==============================] - 16s 96ms/step - loss: 0.4301 - accuracy: 0.8695 - val_loss: 0.2524 - val_accuracy: 0.9474 - lr: 0.0010\n",
            "Epoch 8/100\n",
            "164/164 [==============================] - 15s 94ms/step - loss: 0.3863 - accuracy: 0.8866 - val_loss: 0.2155 - val_accuracy: 0.9474 - lr: 0.0010\n",
            "Epoch 9/100\n",
            "164/164 [==============================] - 16s 96ms/step - loss: 0.3730 - accuracy: 0.8793 - val_loss: 0.2125 - val_accuracy: 0.9474 - lr: 0.0010\n",
            "Epoch 10/100\n",
            "164/164 [==============================] - 15s 94ms/step - loss: 0.2708 - accuracy: 0.9146 - val_loss: 0.3972 - val_accuracy: 0.9181 - lr: 0.0010\n",
            "Epoch 11/100\n",
            "164/164 [==============================] - 15s 95ms/step - loss: 0.3351 - accuracy: 0.8902 - val_loss: 0.3060 - val_accuracy: 0.9181 - lr: 0.0010\n",
            "Epoch 12/100\n",
            "164/164 [==============================] - 15s 94ms/step - loss: 0.3442 - accuracy: 0.8951 - val_loss: 0.2808 - val_accuracy: 0.9181 - lr: 0.0010\n",
            "Epoch 13/100\n",
            "164/164 [==============================] - 16s 96ms/step - loss: 0.3192 - accuracy: 0.8927 - val_loss: 0.2649 - val_accuracy: 0.9532 - lr: 0.0010\n",
            "Epoch 14/100\n",
            "164/164 [==============================] - 15s 95ms/step - loss: 0.2747 - accuracy: 0.9061 - val_loss: 0.2573 - val_accuracy: 0.9415 - lr: 0.0010\n"
          ]
        }
      ],
      "source": [
        "model = build_model(num_classes=20)\n",
        "epochs = 100  \n",
        "early = tf.keras.callbacks.EarlyStopping( patience=5,min_delta=0.001,monitor='val_loss',restore_best_weights=True)\n",
        "reduce_lr = tf.keras.callbacks.ReduceLROnPlateau(monitor='val_loss', min_lr=0.001,patience=5, mode='min',verbose=1)\n",
        "batch_size=5\n",
        "STEP_SIZE_TRAIN = train_generator.n//train_generator.batch_size\n",
        "STEP_SIZE_VALID = validation_generator.n//validation_generator.batch_size\n",
        "history = model.fit_generator(train_crops,\n",
        "                    steps_per_epoch=STEP_SIZE_TRAIN,\n",
        "                    validation_data=validation_generator,\n",
        "                    epochs=epochs,\n",
        "                    callbacks=[early,reduce_lr])"
      ]
    },
    {
      "cell_type": "code",
      "source": [
        "f = open(\"/content/drive/My Drive/Colab Notebooks/MLDS/Data/model1.pkl\", \"wb\")\n",
        "pickle.dump([model,history], f)\n",
        "f.close()"
      ],
      "metadata": {
        "colab": {
          "base_uri": "https://localhost:8080/"
        },
        "id": "cDTET25IgcM-",
        "outputId": "f6a7698b-3cf4-431e-bc16-515841619a53"
      },
      "execution_count": 18,
      "outputs": [
        {
          "output_type": "stream",
          "name": "stderr",
          "text": [
            "WARNING:absl:Found untraced functions such as _jit_compiled_convolution_op, _jit_compiled_convolution_op, _jit_compiled_convolution_op, _jit_compiled_convolution_op, _jit_compiled_convolution_op while saving (showing 5 of 81). These functions will not be directly callable after loading.\n"
          ]
        }
      ]
    },
    {
      "cell_type": "code",
      "execution_count": 19,
      "metadata": {
        "id": "YacrgWnfNeEW"
      },
      "outputs": [],
      "source": [
        "def plot_hist(hist):\n",
        "    plt.plot(hist.history[\"accuracy\"])\n",
        "    plt.plot(hist.history[\"val_accuracy\"])\n",
        "    plt.title(\"model accuracy vs epoch\")\n",
        "    plt.ylabel(\"accuracy\")\n",
        "    plt.xlabel(\"epoch\")\n",
        "    plt.legend([\"train\", \"validation\"], loc=\"upper left\")\n",
        "    plt.show()\n",
        "\n",
        "def plot_loss(hist):\n",
        "    plt.plot(hist.history[\"loss\"])\n",
        "    plt.plot(hist.history[\"val_loss\"])\n",
        "    plt.title(\"model loss vs epoch\")\n",
        "    plt.ylabel(\"Loss\")\n",
        "    plt.xlabel(\"epoch\")\n",
        "    plt.legend([\"train\", \"validation\"], loc=\"upper left\")\n",
        "    plt.show()    "
      ]
    },
    {
      "cell_type": "code",
      "execution_count": null,
      "metadata": {
        "colab": {
          "base_uri": "https://localhost:8080/",
          "height": 295
        },
        "id": "HFQPsUDJSZaC",
        "outputId": "029ef78f-f016-485b-ac0a-cb9c3d08a8dc"
      },
      "outputs": [
        {
          "output_type": "display_data",
          "data": {
            "text/plain": [
              "<Figure size 432x288 with 1 Axes>"
            ],
            "image/png": "[encoded data removed]"
          },
          "metadata": {
            "needs_background": "light"
          }
        }
      ],
      "source": [
        "plot_hist(history)"
      ]
    },
    {
      "cell_type": "code",
      "source": [
        "plot_loss(history)"
      ],
      "metadata": {
        "colab": {
          "base_uri": "https://localhost:8080/",
          "height": 295
        },
        "id": "DG_E69jeoGmC",
        "outputId": "1b2f47f0-b6df-4170-bbd2-1a97611cfd63"
      },
      "execution_count": null,
      "outputs": [
        {
          "output_type": "display_data",
          "data": {
            "text/plain": [
              "<Figure size 432x288 with 1 Axes>"
            ],
            "image/png": "[encoded data removed]"
          },
          "metadata": {
            "needs_background": "light"
          }
        }
      ]
    },
    {
      "cell_type": "code",
      "source": [
        "test_gen = ImageDataGenerator()\n",
        "test_dir=os.path.join(output,'test')\n",
        "test_generator =test_gen.flow_from_directory(test_dir,shuffle = False,target_size = (image_size,image_size),class_mode='categorical',batch_size=1)\n",
        "filenames = test_generator.filenames\n",
        "nb_samples = len(filenames)\n",
        "\n",
        "predict = model.evaluate_generator(test_generator,steps = nb_samples)\n",
        "print('Accuracy of EfficientNetB0 model:', predict[1])"
      ],
      "metadata": {
        "id": "NFR-cMcv0VAe",
        "colab": {
          "base_uri": "https://localhost:8080/"
        },
        "outputId": "51136719-48ce-49f3-a208-e21cf8e68bd4"
      },
      "execution_count": 20,
      "outputs": [
        {
          "output_type": "stream",
          "name": "stdout",
          "text": [
            "Found 185 images belonging to 20 classes.\n",
            "Accuracy of EfficientNetB0 model: 0.929729700088501\n"
          ]
        }
      ]
    },
    {
      "cell_type": "code",
      "source": [
        "test_generator.reset()\n",
        "y_pred_en = model.predict_generator(test_generator)\n",
        "y_pred_en = np.array([np.argmax(x) for x in y_pred_en])\n",
        "y_test_en = test_generator.classes\n",
        "\n",
        "cm = confusion_matrix(y_test_en, y_pred_en)"
      ],
      "metadata": {
        "id": "q6KyBC7AxbSU"
      },
      "execution_count": 21,
      "outputs": []
    },
    {
      "cell_type": "code",
      "source": [
        "cm = cm.astype('float') / cm.sum(axis=1)[:, np.newaxis]\n",
        "classes=list(test_generator.class_indices.keys())\n",
        "from sklearn.metrics import precision_score,recall_score,f1_score\n",
        "precision_en=precision_score(y_test_en, y_pred_en, average=None)\n",
        "recall_en=recall_score(y_test_en, y_pred_en, average=None)\n",
        "f1_en=f1_score(y_test_en, y_pred_en, average=None)\n",
        "\n",
        "en_results={'Classes':classes,'Precision':precision_en,'Recall':recall_en,'F1':f1_en}\n",
        "en_results=pd.DataFrame(en_results)\n",
        "en_results"
      ],
      "metadata": {
        "id": "8SpiCRJ2xbel",
        "colab": {
          "base_uri": "https://localhost:8080/",
          "height": 677
        },
        "outputId": "3033d5ad-4fc7-4b6b-d306-861a30d14494"
      },
      "execution_count": 22,
      "outputs": [
        {
          "output_type": "execute_result",
          "data": {
            "text/plain": [
              "                          Classes  Precision    Recall        F1\n",
              "0              005.Crested_Auklet   1.000000  1.000000  1.000000\n",
              "1                    013.Bobolink   1.000000  0.777778  0.875000\n",
              "2              015.Lazuli_Bunting   1.000000  1.000000  1.000000\n",
              "3            023.Brandt_Cormorant   1.000000  0.800000  0.888889\n",
              "4      040.Olive_sided_Flycatcher   0.666667  0.666667  0.666667\n",
              "5   041.Scissor_tailed_Flycatcher   0.888889  0.888889  0.888889\n",
              "6            067.Anna_Hummingbird   1.000000  1.000000  1.000000\n",
              "7             072.Pomarine_Jaeger   0.900000  1.000000  0.947368\n",
              "8             076.Dark_eyed_Junco   1.000000  1.000000  1.000000\n",
              "9             081.Pied_Kingfisher   1.000000  1.000000  1.000000\n",
              "10          082.Ringed_Kingfisher   1.000000  1.000000  1.000000\n",
              "11               086.Pacific_Loon   0.900000  1.000000  0.947368\n",
              "12                   099.Ovenbird   1.000000  0.777778  0.875000\n",
              "13             104.American_Pipit   0.900000  1.000000  0.947368\n",
              "14           127.Savannah_Sparrow   0.900000  1.000000  0.947368\n",
              "15               135.Bank_Swallow   0.727273  0.800000  0.761905\n",
              "16                 141.Artic_Tern   1.000000  1.000000  1.000000\n",
              "17             149.Brown_Thrasher   0.909091  1.000000  0.952381\n",
              "18           156.White_eyed_Vireo   0.888889  0.888889  0.888889\n",
              "19           168.Kentucky_Warbler   1.000000  1.000000  1.000000"
            ],
            "text/html": [
              "\n",
              "  <div id=\"df-d50b2b32-435b-47ca-a8a0-c9b6f1b0d008\">\n",
              "    <div class=\"colab-df-container\">\n",
              "      <div>\n",
              "<style scoped>\n",
              "    .dataframe tbody tr th:only-of-type {\n",
              "        vertical-align: middle;\n",
              "    }\n",
              "\n",
              "    .dataframe tbody tr th {\n",
              "        vertical-align: top;\n",
              "    }\n",
              "\n",
              "    .dataframe thead th {\n",
              "        text-align: right;\n",
              "    }\n",
              "</style>\n",
              "<table border=\"1\" class=\"dataframe\">\n",
              "  <thead>\n",
              "    <tr style=\"text-align: right;\">\n",
              "      <th></th>\n",
              "      <th>Classes</th>\n",
              "      <th>Precision</th>\n",
              "      <th>Recall</th>\n",
              "      <th>F1</th>\n",
              "    </tr>\n",
              "  </thead>\n",
              "  <tbody>\n",
              "    <tr>\n",
              "      <th>0</th>\n",
              "      <td>005.Crested_Auklet</td>\n",
              "      <td>1.000000</td>\n",
              "      <td>1.000000</td>\n",
              "      <td>1.000000</td>\n",
              "    </tr>\n",
              "    <tr>\n",
              "      <th>1</th>\n",
              "      <td>013.Bobolink</td>\n",
              "      <td>1.000000</td>\n",
              "      <td>0.777778</td>\n",
              "      <td>0.875000</td>\n",
              "    </tr>\n",
              "    <tr>\n",
              "      <th>2</th>\n",
              "      <td>015.Lazuli_Bunting</td>\n",
              "      <td>1.000000</td>\n",
              "      <td>1.000000</td>\n",
              "      <td>1.000000</td>\n",
              "    </tr>\n",
              "    <tr>\n",
              "      <th>3</th>\n",
              "      <td>023.Brandt_Cormorant</td>\n",
              "      <td>1.000000</td>\n",
              "      <td>0.800000</td>\n",
              "      <td>0.888889</td>\n",
              "    </tr>\n",
              "    <tr>\n",
              "      <th>4</th>\n",
              "      <td>040.Olive_sided_Flycatcher</td>\n",
              "      <td>0.666667</td>\n",
              "      <td>0.666667</td>\n",
              "      <td>0.666667</td>\n",
              "    </tr>\n",
              "    <tr>\n",
              "      <th>5</th>\n",
              "      <td>041.Scissor_tailed_Flycatcher</td>\n",
              "      <td>0.888889</td>\n",
              "      <td>0.888889</td>\n",
              "      <td>0.888889</td>\n",
              "    </tr>\n",
              "    <tr>\n",
              "      <th>6</th>\n",
              "      <td>067.Anna_Hummingbird</td>\n",
              "      <td>1.000000</td>\n",
              "      <td>1.000000</td>\n",
              "      <td>1.000000</td>\n",
              "    </tr>\n",
              "    <tr>\n",
              "      <th>7</th>\n",
              "      <td>072.Pomarine_Jaeger</td>\n",
              "      <td>0.900000</td>\n",
              "      <td>1.000000</td>\n",
              "      <td>0.947368</td>\n",
              "    </tr>\n",
              "    <tr>\n",
              "      <th>8</th>\n",
              "      <td>076.Dark_eyed_Junco</td>\n",
              "      <td>1.000000</td>\n",
              "      <td>1.000000</td>\n",
              "      <td>1.000000</td>\n",
              "    </tr>\n",
              "    <tr>\n",
              "      <th>9</th>\n",
              "      <td>081.Pied_Kingfisher</td>\n",
              "      <td>1.000000</td>\n",
              "      <td>1.000000</td>\n",
              "      <td>1.000000</td>\n",
              "    </tr>\n",
              "    <tr>\n",
              "      <th>10</th>\n",
              "      <td>082.Ringed_Kingfisher</td>\n",
              "      <td>1.000000</td>\n",
              "      <td>1.000000</td>\n",
              "      <td>1.000000</td>\n",
              "    </tr>\n",
              "    <tr>\n",
              "      <th>11</th>\n",
              "      <td>086.Pacific_Loon</td>\n",
              "      <td>0.900000</td>\n",
              "      <td>1.000000</td>\n",
              "      <td>0.947368</td>\n",
              "    </tr>\n",
              "    <tr>\n",
              "      <th>12</th>\n",
              "      <td>099.Ovenbird</td>\n",
              "      <td>1.000000</td>\n",
              "      <td>0.777778</td>\n",
              "      <td>0.875000</td>\n",
              "    </tr>\n",
              "    <tr>\n",
              "      <th>13</th>\n",
              "      <td>104.American_Pipit</td>\n",
              "      <td>0.900000</td>\n",
              "      <td>1.000000</td>\n",
              "      <td>0.947368</td>\n",
              "    </tr>\n",
              "    <tr>\n",
              "      <th>14</th>\n",
              "      <td>127.Savannah_Sparrow</td>\n",
              "      <td>0.900000</td>\n",
              "      <td>1.000000</td>\n",
              "      <td>0.947368</td>\n",
              "    </tr>\n",
              "    <tr>\n",
              "      <th>15</th>\n",
              "      <td>135.Bank_Swallow</td>\n",
              "      <td>0.727273</td>\n",
              "      <td>0.800000</td>\n",
              "      <td>0.761905</td>\n",
              "    </tr>\n",
              "    <tr>\n",
              "      <th>16</th>\n",
              "      <td>141.Artic_Tern</td>\n",
              "      <td>1.000000</td>\n",
              "      <td>1.000000</td>\n",
              "      <td>1.000000</td>\n",
              "    </tr>\n",
              "    <tr>\n",
              "      <th>17</th>\n",
              "      <td>149.Brown_Thrasher</td>\n",
              "      <td>0.909091</td>\n",
              "      <td>1.000000</td>\n",
              "      <td>0.952381</td>\n",
              "    </tr>\n",
              "    <tr>\n",
              "      <th>18</th>\n",
              "      <td>156.White_eyed_Vireo</td>\n",
              "      <td>0.888889</td>\n",
              "      <td>0.888889</td>\n",
              "      <td>0.888889</td>\n",
              "    </tr>\n",
              "    <tr>\n",
              "      <th>19</th>\n",
              "      <td>168.Kentucky_Warbler</td>\n",
              "      <td>1.000000</td>\n",
              "      <td>1.000000</td>\n",
              "      <td>1.000000</td>\n",
              "    </tr>\n",
              "  </tbody>\n",
              "</table>\n",
              "</div>\n",
              "      <button class=\"colab-df-convert\" onclick=\"convertToInteractive('df-d50b2b32-435b-47ca-a8a0-c9b6f1b0d008')\"\n",
              "              title=\"Convert this dataframe to an interactive table.\"\n",
              "              style=\"display:none;\">\n",
              "        \n",
              "  <svg xmlns=\"http://www.w3.org/2000/svg\" height=\"24px\"viewBox=\"0 0 24 24\"\n",
              "       width=\"24px\">\n",
              "    <path d=\"M0 0h24v24H0V0z\" fill=\"none\"/>\n",
              "    <path d=\"M18.56 5.44l.94 2.06.94-2.06 2.06-.94-2.06-.94-.94-2.06-.94 2.06-2.06.94zm-11 1L8.5 8.5l.94-2.06 2.06-.94-2.06-.94L8.5 2.5l-.94 2.06-2.06.94zm10 10l.94 2.06.94-2.06 2.06-.94-2.06-.94-.94-2.06-.94 2.06-2.06.94z\"/><path d=\"M17.41 7.96l-1.37-1.37c-.4-.4-.92-.59-1.43-.59-.52 0-1.04.2-1.43.59L10.3 9.45l-7.72 7.72c-.78.78-.78 2.05 0 2.83L4 21.41c.39.39.9.59 1.41.59.51 0 1.02-.2 1.41-.59l7.78-7.78 2.81-2.81c.8-.78.8-2.07 0-2.86zM5.41 20L4 18.59l7.72-7.72 1.47 1.35L5.41 20z\"/>\n",
              "  </svg>\n",
              "      </button>\n",
              "      \n",
              "  <style>\n",
              "    .colab-df-container {\n",
              "      display:flex;\n",
              "      flex-wrap:wrap;\n",
              "      gap: 12px;\n",
              "    }\n",
              "\n",
              "    .colab-df-convert {\n",
              "      background-color: #E8F0FE;\n",
              "      border: none;\n",
              "      border-radius: 50%;\n",
              "      cursor: pointer;\n",
              "      display: none;\n",
              "      fill: #1967D2;\n",
              "      height: 32px;\n",
              "      padding: 0 0 0 0;\n",
              "      width: 32px;\n",
              "    }\n",
              "\n",
              "    .colab-df-convert:hover {\n",
              "      background-color: #E2EBFA;\n",
              "      box-shadow: 0px 1px 2px rgba(60, 64, 67, 0.3), 0px 1px 3px 1px rgba(60, 64, 67, 0.15);\n",
              "      fill: #174EA6;\n",
              "    }\n",
              "\n",
              "    [theme=dark] .colab-df-convert {\n",
              "      background-color: #3B4455;\n",
              "      fill: #D2E3FC;\n",
              "    }\n",
              "\n",
              "    [theme=dark] .colab-df-convert:hover {\n",
              "      background-color: #434B5C;\n",
              "      box-shadow: 0px 1px 3px 1px rgba(0, 0, 0, 0.15);\n",
              "      filter: drop-shadow(0px 1px 2px rgba(0, 0, 0, 0.3));\n",
              "      fill: #FFFFFF;\n",
              "    }\n",
              "  </style>\n",
              "\n",
              "      <script>\n",
              "        const buttonEl =\n",
              "          document.querySelector('#df-d50b2b32-435b-47ca-a8a0-c9b6f1b0d008 button.colab-df-convert');\n",
              "        buttonEl.style.display =\n",
              "          google.colab.kernel.accessAllowed ? 'block' : 'none';\n",
              "\n",
              "        async function convertToInteractive(key) {\n",
              "          const element = document.querySelector('#df-d50b2b32-435b-47ca-a8a0-c9b6f1b0d008');\n",
              "          const dataTable =\n",
              "            await google.colab.kernel.invokeFunction('convertToInteractive',\n",
              "                                                     [key], {});\n",
              "          if (!dataTable) return;\n",
              "\n",
              "          const docLinkHtml = 'Like what you see? Visit the ' +\n",
              "            '<a target=\"_blank\" href=https://colab.research.google.com/notebooks/data_table.ipynb>data table notebook</a>'\n",
              "            + ' to learn more about interactive tables.';\n",
              "          element.innerHTML = '';\n",
              "          dataTable['output_type'] = 'display_data';\n",
              "          await google.colab.output.renderOutput(dataTable, element);\n",
              "          const docLink = document.createElement('div');\n",
              "          docLink.innerHTML = docLinkHtml;\n",
              "          element.appendChild(docLink);\n",
              "        }\n",
              "      </script>\n",
              "    </div>\n",
              "  </div>\n",
              "  "
            ]
          },
          "metadata": {},
          "execution_count": 22
        }
      ]
    },
    {
      "cell_type": "code",
      "source": [
        "print('Mean Precision:', np.mean(precision_en))\n",
        "print('Mean Recall:', np.mean(recall_en))\n",
        "print('Mean F1:', np.mean(f1_en))"
      ],
      "metadata": {
        "colab": {
          "base_uri": "https://localhost:8080/"
        },
        "id": "2Du-Z0K3kQ2t",
        "outputId": "560de6a2-4d37-4d0c-d18f-a57a002b146c"
      },
      "execution_count": 24,
      "outputs": [
        {
          "output_type": "stream",
          "name": "stdout",
          "text": [
            "Mean Precision: 0.934040404040404\n",
            "Mean Recall: 0.9299999999999999\n",
            "Mean F1: 0.9293546365914788\n"
          ]
        }
      ]
    },
    {
      "cell_type": "markdown",
      "source": [
        "## Transfer Learning using VGG16"
      ],
      "metadata": {
        "id": "L_fqBX4_xXhA"
      }
    },
    {
      "cell_type": "code",
      "source": [
        "def build_vgg_model(num_classes):\n",
        "    inputs = layers.Input(shape=(image_size, image_size, 3))\n",
        "    x=tf.keras.applications.vgg16.preprocess_input(inputs)\n",
        "    \n",
        "    model = VGG16(include_top=False, input_tensor=inputs, weights=\"imagenet\")\n",
        "    model.trainable = False\n",
        "    x=model(inputs,training=False)\n",
        "    x = layers.GlobalAveragePooling2D(name=\"avg_pool\")(x)   \n",
        "    x = layers.BatchNormalization()(x)\n",
        "    x = layers.Activation('relu')(x)\n",
        "    top_dropout_rate = 0.2\n",
        "    x = layers.Dropout(top_dropout_rate, name=\"top_dropout\")(x)\n",
        "    outputs = layers.Dense(num_classes, activation=\"softmax\", name=\"pred\")(x)\n",
        "    model = tf.keras.Model(inputs, outputs, name=\"VGG16\")\n",
        "    opt = Adam(lr=0.001)\n",
        "    model.compile(optimizer = opt , loss = \"categorical_crossentropy\" , metrics = ['accuracy'])\n",
        "    return model"
      ],
      "metadata": {
        "id": "8zUH71JHxapJ"
      },
      "execution_count": 25,
      "outputs": []
    },
    {
      "cell_type": "code",
      "source": [
        "vgg_model = build_vgg_model(num_classes=20)\n",
        "epochs = 100  \n",
        "early = tf.keras.callbacks.EarlyStopping( patience=5,min_delta=0.001,monitor='val_loss',restore_best_weights=True)\n",
        "reduce_lr = tf.keras.callbacks.ReduceLROnPlateau(monitor='val_loss', min_lr=0.001,patience=5, mode='min',verbose=1)\n",
        "batch_size=5\n",
        "STEP_SIZE_TRAIN = train_generator.n//train_generator.batch_size\n",
        "STEP_SIZE_VALID = validation_generator.n//validation_generator.batch_size\n",
        "vgg_history = vgg_model.fit_generator(train_crops,\n",
        "                    steps_per_epoch=STEP_SIZE_TRAIN,\n",
        "                    validation_data=validation_generator,\n",
        "                    epochs=epochs,\n",
        "                    callbacks=[early,reduce_lr])"
      ],
      "metadata": {
        "colab": {
          "base_uri": "https://localhost:8080/"
        },
        "id": "T-Cu2nO_xauN",
        "outputId": "a6109489-7a9f-42a8-e769-2408ae2b2f7d"
      },
      "execution_count": 26,
      "outputs": [
        {
          "output_type": "stream",
          "name": "stdout",
          "text": [
            "Downloading data from https://storage.googleapis.com/tensorflow/keras-applications/vgg16/vgg16_weights_tf_dim_ordering_tf_kernels_notop.h5\n",
            "58889256/58889256 [==============================] - 3s 0us/step\n",
            "Epoch 1/100\n",
            "164/164 [==============================] - 20s 108ms/step - loss: 3.0955 - accuracy: 0.1183 - val_loss: 2.3456 - val_accuracy: 0.3567 - lr: 0.0010\n",
            "Epoch 2/100\n",
            "164/164 [==============================] - 16s 98ms/step - loss: 2.3896 - accuracy: 0.2622 - val_loss: 1.6129 - val_accuracy: 0.5322 - lr: 0.0010\n",
            "Epoch 3/100\n",
            "164/164 [==============================] - 16s 99ms/step - loss: 2.0015 - accuracy: 0.3915 - val_loss: 1.2912 - val_accuracy: 0.5965 - lr: 0.0010\n",
            "Epoch 4/100\n",
            "164/164 [==============================] - 18s 107ms/step - loss: 1.7379 - accuracy: 0.4890 - val_loss: 1.1725 - val_accuracy: 0.6257 - lr: 0.0010\n",
            "Epoch 5/100\n",
            "164/164 [==============================] - 16s 101ms/step - loss: 1.6292 - accuracy: 0.5073 - val_loss: 1.0391 - val_accuracy: 0.6784 - lr: 0.0010\n",
            "Epoch 6/100\n",
            "164/164 [==============================] - 16s 101ms/step - loss: 1.4335 - accuracy: 0.5659 - val_loss: 1.0438 - val_accuracy: 0.6959 - lr: 0.0010\n",
            "Epoch 7/100\n",
            "164/164 [==============================] - 17s 107ms/step - loss: 1.3834 - accuracy: 0.5866 - val_loss: 0.9225 - val_accuracy: 0.7251 - lr: 0.0010\n",
            "Epoch 8/100\n",
            "164/164 [==============================] - 16s 98ms/step - loss: 1.2707 - accuracy: 0.5988 - val_loss: 0.9248 - val_accuracy: 0.7018 - lr: 0.0010\n",
            "Epoch 9/100\n",
            "164/164 [==============================] - 16s 99ms/step - loss: 1.2618 - accuracy: 0.5927 - val_loss: 0.8872 - val_accuracy: 0.7368 - lr: 0.0010\n",
            "Epoch 10/100\n",
            "164/164 [==============================] - 17s 107ms/step - loss: 1.1972 - accuracy: 0.6220 - val_loss: 0.9057 - val_accuracy: 0.7135 - lr: 0.0010\n",
            "Epoch 11/100\n",
            "164/164 [==============================] - 16s 101ms/step - loss: 1.1835 - accuracy: 0.6378 - val_loss: 0.8861 - val_accuracy: 0.7251 - lr: 0.0010\n",
            "Epoch 12/100\n",
            "164/164 [==============================] - 16s 100ms/step - loss: 1.1790 - accuracy: 0.6524 - val_loss: 0.8665 - val_accuracy: 0.7368 - lr: 0.0010\n",
            "Epoch 13/100\n",
            "164/164 [==============================] - 16s 99ms/step - loss: 1.0843 - accuracy: 0.6720 - val_loss: 0.8266 - val_accuracy: 0.7427 - lr: 0.0010\n",
            "Epoch 14/100\n",
            "164/164 [==============================] - 16s 97ms/step - loss: 1.1305 - accuracy: 0.6463 - val_loss: 0.8818 - val_accuracy: 0.7427 - lr: 0.0010\n",
            "Epoch 15/100\n",
            "164/164 [==============================] - 16s 96ms/step - loss: 1.0003 - accuracy: 0.6793 - val_loss: 0.8957 - val_accuracy: 0.7368 - lr: 0.0010\n",
            "Epoch 16/100\n",
            "164/164 [==============================] - 16s 96ms/step - loss: 1.0002 - accuracy: 0.7000 - val_loss: 0.8337 - val_accuracy: 0.7602 - lr: 0.0010\n",
            "Epoch 17/100\n",
            "164/164 [==============================] - 16s 97ms/step - loss: 1.0749 - accuracy: 0.6610 - val_loss: 0.8685 - val_accuracy: 0.7485 - lr: 0.0010\n",
            "Epoch 18/100\n",
            "164/164 [==============================] - 16s 97ms/step - loss: 1.0625 - accuracy: 0.6866 - val_loss: 0.8457 - val_accuracy: 0.7544 - lr: 0.0010\n"
          ]
        }
      ]
    },
    {
      "cell_type": "code",
      "source": [
        "f = open(\"/content/drive/My Drive/Colab Notebooks/MLDS/Data/model2.pkl\", \"wb\")\n",
        "pickle.dump([vgg_model,vgg_history], f)\n",
        "f.close()"
      ],
      "metadata": {
        "colab": {
          "base_uri": "https://localhost:8080/"
        },
        "id": "dI0zXEm4hWOI",
        "outputId": "2bd133ac-d40b-4b83-fc89-d03a6c4d113d"
      },
      "execution_count": 27,
      "outputs": [
        {
          "output_type": "stream",
          "name": "stderr",
          "text": [
            "WARNING:absl:Found untraced functions such as _jit_compiled_convolution_op, _jit_compiled_convolution_op, _jit_compiled_convolution_op, _jit_compiled_convolution_op, _jit_compiled_convolution_op while saving (showing 5 of 13). These functions will not be directly callable after loading.\n"
          ]
        }
      ]
    },
    {
      "cell_type": "code",
      "source": [
        "plot_hist(vgg_history)"
      ],
      "metadata": {
        "id": "MYIsPRCixaxC",
        "colab": {
          "base_uri": "https://localhost:8080/",
          "height": 295
        },
        "outputId": "403d66c0-d045-46b1-eac7-1fa137494ebb"
      },
      "execution_count": 28,
      "outputs": [
        {
          "output_type": "display_data",
          "data": {
            "text/plain": [
              "<Figure size 432x288 with 1 Axes>"
            ],
            "image/png": "[encoded data removed]"
          },
          "metadata": {
            "needs_background": "light"
          }
        }
      ]
    },
    {
      "cell_type": "code",
      "source": [
        "plot_loss(vgg_history)"
      ],
      "metadata": {
        "colab": {
          "base_uri": "https://localhost:8080/",
          "height": 295
        },
        "id": "rynYbPidoKqh",
        "outputId": "7ef454cb-e765-4c8f-c5b6-47a32b5392d3"
      },
      "execution_count": 29,
      "outputs": [
        {
          "output_type": "display_data",
          "data": {
            "text/plain": [
              "<Figure size 432x288 with 1 Axes>"
            ],
            "image/png": "[encoded data removed]"
          },
          "metadata": {
            "needs_background": "light"
          }
        }
      ]
    },
    {
      "cell_type": "code",
      "source": [
        "test_gen = ImageDataGenerator()\n",
        "test_dir=os.path.join(output,'test')\n",
        "test_generator =test_gen.flow_from_directory(test_dir,shuffle = False,batch_size=1,target_size = (image_size,image_size))\n",
        "test_generator.reset()\n",
        "filenames = test_generator.filenames\n",
        "nb_samples = len(filenames)\n",
        "vgg_predict = vgg_model.evaluate_generator(test_generator, steps=nb_samples)"
      ],
      "metadata": {
        "id": "4Kih0uNvyC-r",
        "colab": {
          "base_uri": "https://localhost:8080/"
        },
        "outputId": "3a021388-8ad9-486b-e992-efa5578e6af0"
      },
      "execution_count": 30,
      "outputs": [
        {
          "output_type": "stream",
          "name": "stdout",
          "text": [
            "Found 185 images belonging to 20 classes.\n"
          ]
        }
      ]
    },
    {
      "cell_type": "code",
      "source": [
        "print(\"Accuracy of VGG model:\", vgg_predict[1])"
      ],
      "metadata": {
        "colab": {
          "base_uri": "https://localhost:8080/"
        },
        "id": "xvTH1_e-Fj-7",
        "outputId": "ff905697-d57c-4a5d-afab-3d570f0c4c9b"
      },
      "execution_count": 31,
      "outputs": [
        {
          "output_type": "stream",
          "name": "stdout",
          "text": [
            "Accuracy of VGG model: 0.7567567825317383\n"
          ]
        }
      ]
    },
    {
      "cell_type": "code",
      "source": [
        "test_generator.reset()\n",
        "y_pred = vgg_model.predict_generator(test_generator)\n",
        "y_pred = np.array([np.argmax(x) for x in y_pred])\n",
        "y_test = test_generator.classes\n",
        "cm = confusion_matrix(y_test, y_pred)\n",
        "cm = cm.astype('float') / cm.sum(axis=1)[:, np.newaxis]\n",
        "acc_each_class = cm.diagonal()\n",
        "print('Accuracy for each class:\\n',acc_each_class)"
      ],
      "metadata": {
        "colab": {
          "base_uri": "https://localhost:8080/"
        },
        "id": "VnBjjCnSBO8v",
        "outputId": "3ff41ab2-37dc-40c0-b4d0-10b9431694d4"
      },
      "execution_count": 32,
      "outputs": [
        {
          "output_type": "stream",
          "name": "stdout",
          "text": [
            "Accuracy for each class:\n",
            " [1.         0.77777778 0.5        0.7        0.44444444 0.88888889\n",
            " 1.         0.88888889 0.88888889 1.         0.66666667 1.\n",
            " 0.55555556 0.66666667 0.77777778 0.3        1.         0.5\n",
            " 0.77777778 0.9       ]\n"
          ]
        }
      ]
    },
    {
      "cell_type": "code",
      "source": [
        "classes=list(test_generator.class_indices.keys())\n",
        "from sklearn.metrics import precision_score,recall_score,f1_score\n",
        "precision_vgg=precision_score(y_test, y_pred, average=None)\n",
        "recall_vgg=recall_score(y_test, y_pred, average=None)\n",
        "f1_vgg=f1_score(y_test, y_pred, average=None)\n",
        "\n",
        "vgg_results={'Classes':classes,'Precision':precision_vgg,'Recall':recall_vgg,'F1':f1_vgg}\n",
        "vgg_results=pd.DataFrame(vgg_results)\n",
        "vgg_results"
      ],
      "metadata": {
        "colab": {
          "base_uri": "https://localhost:8080/",
          "height": 677
        },
        "id": "yOO15fS1hnnQ",
        "outputId": "590dfb38-a725-49e5-8747-f4e05dc0341e"
      },
      "execution_count": 33,
      "outputs": [
        {
          "output_type": "execute_result",
          "data": {
            "text/plain": [
              "                          Classes  Precision    Recall        F1\n",
              "0              005.Crested_Auklet   0.800000  1.000000  0.888889\n",
              "1                    013.Bobolink   0.777778  0.777778  0.777778\n",
              "2              015.Lazuli_Bunting   0.714286  0.500000  0.588235\n",
              "3            023.Brandt_Cormorant   0.700000  0.700000  0.700000\n",
              "4      040.Olive_sided_Flycatcher   1.000000  0.444444  0.615385\n",
              "5   041.Scissor_tailed_Flycatcher   0.470588  0.888889  0.615385\n",
              "6            067.Anna_Hummingbird   0.818182  1.000000  0.900000\n",
              "7             072.Pomarine_Jaeger   0.727273  0.888889  0.800000\n",
              "8             076.Dark_eyed_Junco   0.727273  0.888889  0.800000\n",
              "9             081.Pied_Kingfisher   0.900000  1.000000  0.947368\n",
              "10          082.Ringed_Kingfisher   1.000000  0.666667  0.800000\n",
              "11               086.Pacific_Loon   1.000000  1.000000  1.000000\n",
              "12                   099.Ovenbird   0.625000  0.555556  0.588235\n",
              "13             104.American_Pipit   0.750000  0.666667  0.705882\n",
              "14           127.Savannah_Sparrow   0.700000  0.777778  0.736842\n",
              "15               135.Bank_Swallow   0.750000  0.300000  0.428571\n",
              "16                 141.Artic_Tern   0.909091  1.000000  0.952381\n",
              "17             149.Brown_Thrasher   0.625000  0.500000  0.555556\n",
              "18           156.White_eyed_Vireo   0.636364  0.777778  0.700000\n",
              "19           168.Kentucky_Warbler   0.900000  0.900000  0.900000"
            ],
            "text/html": [
              "\n",
              "  <div id=\"df-7805ee27-b66c-4fae-8442-4f25df0129b6\">\n",
              "    <div class=\"colab-df-container\">\n",
              "      <div>\n",
              "<style scoped>\n",
              "    .dataframe tbody tr th:only-of-type {\n",
              "        vertical-align: middle;\n",
              "    }\n",
              "\n",
              "    .dataframe tbody tr th {\n",
              "        vertical-align: top;\n",
              "    }\n",
              "\n",
              "    .dataframe thead th {\n",
              "        text-align: right;\n",
              "    }\n",
              "</style>\n",
              "<table border=\"1\" class=\"dataframe\">\n",
              "  <thead>\n",
              "    <tr style=\"text-align: right;\">\n",
              "      <th></th>\n",
              "      <th>Classes</th>\n",
              "      <th>Precision</th>\n",
              "      <th>Recall</th>\n",
              "      <th>F1</th>\n",
              "    </tr>\n",
              "  </thead>\n",
              "  <tbody>\n",
              "    <tr>\n",
              "      <th>0</th>\n",
              "      <td>005.Crested_Auklet</td>\n",
              "      <td>0.800000</td>\n",
              "      <td>1.000000</td>\n",
              "      <td>0.888889</td>\n",
              "    </tr>\n",
              "    <tr>\n",
              "      <th>1</th>\n",
              "      <td>013.Bobolink</td>\n",
              "      <td>0.777778</td>\n",
              "      <td>0.777778</td>\n",
              "      <td>0.777778</td>\n",
              "    </tr>\n",
              "    <tr>\n",
              "      <th>2</th>\n",
              "      <td>015.Lazuli_Bunting</td>\n",
              "      <td>0.714286</td>\n",
              "      <td>0.500000</td>\n",
              "      <td>0.588235</td>\n",
              "    </tr>\n",
              "    <tr>\n",
              "      <th>3</th>\n",
              "      <td>023.Brandt_Cormorant</td>\n",
              "      <td>0.700000</td>\n",
              "      <td>0.700000</td>\n",
              "      <td>0.700000</td>\n",
              "    </tr>\n",
              "    <tr>\n",
              "      <th>4</th>\n",
              "      <td>040.Olive_sided_Flycatcher</td>\n",
              "      <td>1.000000</td>\n",
              "      <td>0.444444</td>\n",
              "      <td>0.615385</td>\n",
              "    </tr>\n",
              "    <tr>\n",
              "      <th>5</th>\n",
              "      <td>041.Scissor_tailed_Flycatcher</td>\n",
              "      <td>0.470588</td>\n",
              "      <td>0.888889</td>\n",
              "      <td>0.615385</td>\n",
              "    </tr>\n",
              "    <tr>\n",
              "      <th>6</th>\n",
              "      <td>067.Anna_Hummingbird</td>\n",
              "      <td>0.818182</td>\n",
              "      <td>1.000000</td>\n",
              "      <td>0.900000</td>\n",
              "    </tr>\n",
              "    <tr>\n",
              "      <th>7</th>\n",
              "      <td>072.Pomarine_Jaeger</td>\n",
              "      <td>0.727273</td>\n",
              "      <td>0.888889</td>\n",
              "      <td>0.800000</td>\n",
              "    </tr>\n",
              "    <tr>\n",
              "      <th>8</th>\n",
              "      <td>076.Dark_eyed_Junco</td>\n",
              "      <td>0.727273</td>\n",
              "      <td>0.888889</td>\n",
              "      <td>0.800000</td>\n",
              "    </tr>\n",
              "    <tr>\n",
              "      <th>9</th>\n",
              "      <td>081.Pied_Kingfisher</td>\n",
              "      <td>0.900000</td>\n",
              "      <td>1.000000</td>\n",
              "      <td>0.947368</td>\n",
              "    </tr>\n",
              "    <tr>\n",
              "      <th>10</th>\n",
              "      <td>082.Ringed_Kingfisher</td>\n",
              "      <td>1.000000</td>\n",
              "      <td>0.666667</td>\n",
              "      <td>0.800000</td>\n",
              "    </tr>\n",
              "    <tr>\n",
              "      <th>11</th>\n",
              "      <td>086.Pacific_Loon</td>\n",
              "      <td>1.000000</td>\n",
              "      <td>1.000000</td>\n",
              "      <td>1.000000</td>\n",
              "    </tr>\n",
              "    <tr>\n",
              "      <th>12</th>\n",
              "      <td>099.Ovenbird</td>\n",
              "      <td>0.625000</td>\n",
              "      <td>0.555556</td>\n",
              "      <td>0.588235</td>\n",
              "    </tr>\n",
              "    <tr>\n",
              "      <th>13</th>\n",
              "      <td>104.American_Pipit</td>\n",
              "      <td>0.750000</td>\n",
              "      <td>0.666667</td>\n",
              "      <td>0.705882</td>\n",
              "    </tr>\n",
              "    <tr>\n",
              "      <th>14</th>\n",
              "      <td>127.Savannah_Sparrow</td>\n",
              "      <td>0.700000</td>\n",
              "      <td>0.777778</td>\n",
              "      <td>0.736842</td>\n",
              "    </tr>\n",
              "    <tr>\n",
              "      <th>15</th>\n",
              "      <td>135.Bank_Swallow</td>\n",
              "      <td>0.750000</td>\n",
              "      <td>0.300000</td>\n",
              "      <td>0.428571</td>\n",
              "    </tr>\n",
              "    <tr>\n",
              "      <th>16</th>\n",
              "      <td>141.Artic_Tern</td>\n",
              "      <td>0.909091</td>\n",
              "      <td>1.000000</td>\n",
              "      <td>0.952381</td>\n",
              "    </tr>\n",
              "    <tr>\n",
              "      <th>17</th>\n",
              "      <td>149.Brown_Thrasher</td>\n",
              "      <td>0.625000</td>\n",
              "      <td>0.500000</td>\n",
              "      <td>0.555556</td>\n",
              "    </tr>\n",
              "    <tr>\n",
              "      <th>18</th>\n",
              "      <td>156.White_eyed_Vireo</td>\n",
              "      <td>0.636364</td>\n",
              "      <td>0.777778</td>\n",
              "      <td>0.700000</td>\n",
              "    </tr>\n",
              "    <tr>\n",
              "      <th>19</th>\n",
              "      <td>168.Kentucky_Warbler</td>\n",
              "      <td>0.900000</td>\n",
              "      <td>0.900000</td>\n",
              "      <td>0.900000</td>\n",
              "    </tr>\n",
              "  </tbody>\n",
              "</table>\n",
              "</div>\n",
              "      <button class=\"colab-df-convert\" onclick=\"convertToInteractive('df-7805ee27-b66c-4fae-8442-4f25df0129b6')\"\n",
              "              title=\"Convert this dataframe to an interactive table.\"\n",
              "              style=\"display:none;\">\n",
              "        \n",
              "  <svg xmlns=\"http://www.w3.org/2000/svg\" height=\"24px\"viewBox=\"0 0 24 24\"\n",
              "       width=\"24px\">\n",
              "    <path d=\"M0 0h24v24H0V0z\" fill=\"none\"/>\n",
              "    <path d=\"M18.56 5.44l.94 2.06.94-2.06 2.06-.94-2.06-.94-.94-2.06-.94 2.06-2.06.94zm-11 1L8.5 8.5l.94-2.06 2.06-.94-2.06-.94L8.5 2.5l-.94 2.06-2.06.94zm10 10l.94 2.06.94-2.06 2.06-.94-2.06-.94-.94-2.06-.94 2.06-2.06.94z\"/><path d=\"M17.41 7.96l-1.37-1.37c-.4-.4-.92-.59-1.43-.59-.52 0-1.04.2-1.43.59L10.3 9.45l-7.72 7.72c-.78.78-.78 2.05 0 2.83L4 21.41c.39.39.9.59 1.41.59.51 0 1.02-.2 1.41-.59l7.78-7.78 2.81-2.81c.8-.78.8-2.07 0-2.86zM5.41 20L4 18.59l7.72-7.72 1.47 1.35L5.41 20z\"/>\n",
              "  </svg>\n",
              "      </button>\n",
              "      \n",
              "  <style>\n",
              "    .colab-df-container {\n",
              "      display:flex;\n",
              "      flex-wrap:wrap;\n",
              "      gap: 12px;\n",
              "    }\n",
              "\n",
              "    .colab-df-convert {\n",
              "      background-color: #E8F0FE;\n",
              "      border: none;\n",
              "      border-radius: 50%;\n",
              "      cursor: pointer;\n",
              "      display: none;\n",
              "      fill: #1967D2;\n",
              "      height: 32px;\n",
              "      padding: 0 0 0 0;\n",
              "      width: 32px;\n",
              "    }\n",
              "\n",
              "    .colab-df-convert:hover {\n",
              "      background-color: #E2EBFA;\n",
              "      box-shadow: 0px 1px 2px rgba(60, 64, 67, 0.3), 0px 1px 3px 1px rgba(60, 64, 67, 0.15);\n",
              "      fill: #174EA6;\n",
              "    }\n",
              "\n",
              "    [theme=dark] .colab-df-convert {\n",
              "      background-color: #3B4455;\n",
              "      fill: #D2E3FC;\n",
              "    }\n",
              "\n",
              "    [theme=dark] .colab-df-convert:hover {\n",
              "      background-color: #434B5C;\n",
              "      box-shadow: 0px 1px 3px 1px rgba(0, 0, 0, 0.15);\n",
              "      filter: drop-shadow(0px 1px 2px rgba(0, 0, 0, 0.3));\n",
              "      fill: #FFFFFF;\n",
              "    }\n",
              "  </style>\n",
              "\n",
              "      <script>\n",
              "        const buttonEl =\n",
              "          document.querySelector('#df-7805ee27-b66c-4fae-8442-4f25df0129b6 button.colab-df-convert');\n",
              "        buttonEl.style.display =\n",
              "          google.colab.kernel.accessAllowed ? 'block' : 'none';\n",
              "\n",
              "        async function convertToInteractive(key) {\n",
              "          const element = document.querySelector('#df-7805ee27-b66c-4fae-8442-4f25df0129b6');\n",
              "          const dataTable =\n",
              "            await google.colab.kernel.invokeFunction('convertToInteractive',\n",
              "                                                     [key], {});\n",
              "          if (!dataTable) return;\n",
              "\n",
              "          const docLinkHtml = 'Like what you see? Visit the ' +\n",
              "            '<a target=\"_blank\" href=https://colab.research.google.com/notebooks/data_table.ipynb>data table notebook</a>'\n",
              "            + ' to learn more about interactive tables.';\n",
              "          element.innerHTML = '';\n",
              "          dataTable['output_type'] = 'display_data';\n",
              "          await google.colab.output.renderOutput(dataTable, element);\n",
              "          const docLink = document.createElement('div');\n",
              "          docLink.innerHTML = docLinkHtml;\n",
              "          element.appendChild(docLink);\n",
              "        }\n",
              "      </script>\n",
              "    </div>\n",
              "  </div>\n",
              "  "
            ]
          },
          "metadata": {},
          "execution_count": 33
        }
      ]
    },
    {
      "cell_type": "code",
      "source": [
        "print('Mean Precision:', np.mean(precision_vgg))\n",
        "print('Mean Recall:', np.mean(recall_vgg))\n",
        "print('Mean F1:', np.mean(f1_vgg))"
      ],
      "metadata": {
        "colab": {
          "base_uri": "https://localhost:8080/"
        },
        "id": "7mPK3aCdkg93",
        "outputId": "531fe4b2-b0b1-4600-a962-fd0578f2b07c"
      },
      "execution_count": 35,
      "outputs": [
        {
          "output_type": "stream",
          "name": "stdout",
          "text": [
            "Mean Precision: 0.7765416772769714\n",
            "Mean Recall: 0.7616666666666667\n",
            "Mean F1: 0.7500253650718047\n"
          ]
        }
      ]
    },
    {
      "cell_type": "code",
      "source": [],
      "metadata": {
        "id": "HCEsdoZhm4Tk"
      },
      "execution_count": null,
      "outputs": []
    }
  ],
  "metadata": {
    "colab": {
      "provenance": []
    },
    "gpuClass": "standard",
    "kernelspec": {
      "display_name": "Python 3",
      "name": "python3"
    },
    "language_info": {
      "name": "python"
    },
    "accelerator": "GPU"
  },
  "nbformat": 4,
  "nbformat_minor": 0
}